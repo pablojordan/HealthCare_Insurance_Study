{
 "cells": [
  {
   "cell_type": "markdown",
   "metadata": {
    "toc": true
   },
   "source": [
    "<h1>Table of Contents<span class=\"tocSkip\"></span></h1>\n",
    "<div class=\"toc\"><ul class=\"toc-item\"><li><span><a href=\"#Import-Dependencies\" data-toc-modified-id=\"Import-Dependencies-1\"><span class=\"toc-item-num\">1&nbsp;&nbsp;</span>Import Dependencies</a></span></li><li><span><a href=\"#Connect-to-PostgreSQL\" data-toc-modified-id=\"Connect-to-PostgreSQL-2\"><span class=\"toc-item-num\">2&nbsp;&nbsp;</span>Connect to PostgreSQL</a></span><ul class=\"toc-item\"><li><span><a href=\"#Query-data-/-Save-to-CSV-/-Load-to-Database\" data-toc-modified-id=\"Query-data-/-Save-to-CSV-/-Load-to-Database-2.1\"><span class=\"toc-item-num\">2.1&nbsp;&nbsp;</span>Query data / Save to CSV / Load to Database</a></span></li></ul></li></ul></div>"
   ]
  },
  {
   "cell_type": "markdown",
   "metadata": {},
   "source": [
    "#  Import Dependencies"
   ]
  },
  {
   "cell_type": "code",
   "execution_count": 3,
   "metadata": {
    "ExecuteTime": {
     "end_time": "2019-10-13T05:55:03.301244Z",
     "start_time": "2019-10-13T05:55:03.297257Z"
    }
   },
   "outputs": [],
   "source": [
    "import pandas as pd\n",
    "import bq_helper\n",
    "import secret\n",
    "# Help: https://stackoverflow.com/questions/45501082/set-google-application-credentials-in-python-project-to-use-google-api\n",
    "# BigQuery from Google Application \n",
    "import os\n",
    "# os.environ[\"GOOGLE_APPLICATION_CREDENTIALS\"]= secret.user_pass\n",
    "# from bq_helper import BigQueryHelper\n",
    "# # https://www.kaggle.com/sohier/introduction-to-the-bq-helper-package\n",
    "# medicare = bq_helper.BigQueryHelper(active_project=\"bigquery-public-data\",\n",
    "#                                    dataset_name=\"cms_medicare\")"
   ]
  },
  {
   "cell_type": "code",
   "execution_count": 2,
   "metadata": {
    "ExecuteTime": {
     "end_time": "2019-10-10T13:18:50.416488Z",
     "start_time": "2019-10-10T13:18:49.668755Z"
    }
   },
   "outputs": [
    {
     "data": {
      "text/plain": [
       "['home_health_agencies_2013',\n",
       " 'home_health_agencies_2014',\n",
       " 'hospice_providers_2014',\n",
       " 'hospital_general_info',\n",
       " 'inpatient_charges_2011',\n",
       " 'inpatient_charges_2012',\n",
       " 'inpatient_charges_2013',\n",
       " 'inpatient_charges_2014',\n",
       " 'inpatient_charges_2015',\n",
       " 'nursing_facilities_2013',\n",
       " 'nursing_facilities_2014',\n",
       " 'outpatient_charges_2011',\n",
       " 'outpatient_charges_2012',\n",
       " 'outpatient_charges_2013',\n",
       " 'outpatient_charges_2014',\n",
       " 'outpatient_charges_2015',\n",
       " 'part_d_prescriber_2014',\n",
       " 'physicians_and_other_supplier_2012',\n",
       " 'physicians_and_other_supplier_2013',\n",
       " 'physicians_and_other_supplier_2014',\n",
       " 'physicians_and_other_supplier_2015',\n",
       " 'referring_durable_medical_equip_2013',\n",
       " 'referring_durable_medical_equip_2014']"
      ]
     },
     "execution_count": 2,
     "metadata": {},
     "output_type": "execute_result"
    }
   ],
   "source": [
    "# Test Query to see all tables \n",
    "bq_assistant = BigQueryHelper(\"bigquery-public-data\", \"cms_medicare\")\n",
    "# bq_assistant.table_schema(\"home_health_agencies_2013\") --> Optional table schema\n",
    "bq_assistant.list_tables()"
   ]
  },
  {
   "cell_type": "markdown",
   "metadata": {},
   "source": [
    "# Connect to PostgreSQL"
   ]
  },
  {
   "cell_type": "code",
   "execution_count": 4,
   "metadata": {
    "ExecuteTime": {
     "end_time": "2019-10-13T05:55:10.916191Z",
     "start_time": "2019-10-13T05:55:10.731647Z"
    }
   },
   "outputs": [
    {
     "data": {
      "text/plain": [
       "['physicians_and_supplier2012a',\n",
       " 'physicians_and_supplier2012b',\n",
       " 'home_health_agencies_2013',\n",
       " 'home_health_agencies_2014',\n",
       " 'hospice_providers_2014',\n",
       " 'hospital_general_info',\n",
       " 'inpatient_charges_2011',\n",
       " 'inpatient_charges_2012',\n",
       " 'inpatient_charges_2013',\n",
       " 'inpatient_charges_2014',\n",
       " 'inpatient_charges_2015',\n",
       " 'nursing_facilities_2013',\n",
       " 'nursing_facilities_2014',\n",
       " 'outpatient_charges_2011',\n",
       " 'outpatient_charges_2012',\n",
       " 'outpatient_charges_2013',\n",
       " 'outpatient_charges_2014',\n",
       " 'outpatient_charges_2015',\n",
       " 'physicians_and_supplier2013b',\n",
       " 'physicians_and_supplier2013a',\n",
       " 'physicians_and_supplier2014a',\n",
       " 'physicians_and_supplier2014b',\n",
       " 'physicians_and_supplier2015a',\n",
       " 'physicians_and_supplier2015b',\n",
       " 'part_d_prescriber_2014a',\n",
       " 'part_d_prescriber_2014b',\n",
       " 'part_d_prescriber_2014c',\n",
       " 'part_d_prescriber_2014d',\n",
       " 'part_d_prescriber_2014_table',\n",
       " 'data/CLEAN_part_d_FINAL',\n",
       " 'CLEAN_in_out_patients_charges_metadata',\n",
       " 'CLEAN_outpatients_charges_combined',\n",
       " 'CLEAN_inpatients_charges_combined',\n",
       " 'CLEAN_total_avg_cost_inpatients',\n",
       " 'CLEAN_total_avg_cost_outpatients',\n",
       " 'CLEAN_inpatients_drg_data',\n",
       " 'CLEAN_outpatients_APC_data']"
      ]
     },
     "execution_count": 4,
     "metadata": {},
     "output_type": "execute_result"
    }
   ],
   "source": [
    "# connect to local database \n",
    "from sqlalchemy import create_engine\n",
    "# {secret.user_pass_post}\n",
    "engine = create_engine(f\"postgresql://{secret.user_pass_post}@localhost:5432/medicareDB\")\n",
    "engine.table_names()"
   ]
  },
  {
   "cell_type": "markdown",
   "metadata": {},
   "source": [
    "## Query data / Save to CSV / Load to Database"
   ]
  },
  {
   "cell_type": "code",
   "execution_count": 5,
   "metadata": {},
   "outputs": [
    {
     "data": {
      "text/html": [
       "<div>\n",
       "<style scoped>\n",
       "    .dataframe tbody tr th:only-of-type {\n",
       "        vertical-align: middle;\n",
       "    }\n",
       "\n",
       "    .dataframe tbody tr th {\n",
       "        vertical-align: top;\n",
       "    }\n",
       "\n",
       "    .dataframe thead th {\n",
       "        text-align: right;\n",
       "    }\n",
       "</style>\n",
       "<table border=\"1\" class=\"dataframe\">\n",
       "  <thead>\n",
       "    <tr style=\"text-align: right;\">\n",
       "      <th></th>\n",
       "      <th>provider_id</th>\n",
       "      <th>agency_name</th>\n",
       "      <th>street_address</th>\n",
       "      <th>city</th>\n",
       "      <th>state</th>\n",
       "      <th>zip_code</th>\n",
       "      <th>total_episodes_non_lupa</th>\n",
       "      <th>distinct_users_non_lupa</th>\n",
       "      <th>total_hha_charge_amount_non_lupa</th>\n",
       "      <th>total_hha_medicare_payment_amount_non_lupa</th>\n",
       "      <th>total_hha_medicare_standard_payment_amount_non_lupa</th>\n",
       "      <th>outlier_payments_as_a_percent_of_medicare_payment_amount_non_lupa</th>\n",
       "      <th>total_lupa_episodes</th>\n",
       "      <th>total_hha_medicare_payment_amount_for_lupas</th>\n",
       "    </tr>\n",
       "  </thead>\n",
       "  <tbody>\n",
       "    <tr>\n",
       "      <td>0</td>\n",
       "      <td>337290</td>\n",
       "      <td>AMERICARE CERTIFIED SPECIAL SERVICES, INC CHHA</td>\n",
       "      <td>5923 STRICKLAND AVENUE</td>\n",
       "      <td>BROOKLYN</td>\n",
       "      <td>NY</td>\n",
       "      <td>11234</td>\n",
       "      <td>3148</td>\n",
       "      <td>2310</td>\n",
       "      <td>14112445</td>\n",
       "      <td>12667998</td>\n",
       "      <td>9482140</td>\n",
       "      <td>10</td>\n",
       "      <td>259.0</td>\n",
       "      <td>108050.0</td>\n",
       "    </tr>\n",
       "    <tr>\n",
       "      <td>1</td>\n",
       "      <td>58217</td>\n",
       "      <td>BRADBOURNE HEALTHCARE, INC</td>\n",
       "      <td>16029 ARROW HIGHWAY SUITE A</td>\n",
       "      <td>IRWINDALE</td>\n",
       "      <td>CA</td>\n",
       "      <td>91706</td>\n",
       "      <td>620</td>\n",
       "      <td>297</td>\n",
       "      <td>1786721</td>\n",
       "      <td>2257118</td>\n",
       "      <td>1768714</td>\n",
       "      <td>10</td>\n",
       "      <td>NaN</td>\n",
       "      <td>NaN</td>\n",
       "    </tr>\n",
       "    <tr>\n",
       "      <td>2</td>\n",
       "      <td>58419</td>\n",
       "      <td>INSIGHT HEALTH CARE PROVIDERS, INC</td>\n",
       "      <td>500 S KRAEMER BLVD, #240</td>\n",
       "      <td>BREA</td>\n",
       "      <td>CA</td>\n",
       "      <td>92821</td>\n",
       "      <td>19</td>\n",
       "      <td>15</td>\n",
       "      <td>127300</td>\n",
       "      <td>87592</td>\n",
       "      <td>68536</td>\n",
       "      <td>11</td>\n",
       "      <td>NaN</td>\n",
       "      <td>NaN</td>\n",
       "    </tr>\n",
       "    <tr>\n",
       "      <td>3</td>\n",
       "      <td>108167</td>\n",
       "      <td>D &amp; N HOME HEALTH SERVICES, INC.</td>\n",
       "      <td>1140 W 50 ST STE 305</td>\n",
       "      <td>HIALEAH</td>\n",
       "      <td>FL</td>\n",
       "      <td>33012</td>\n",
       "      <td>208</td>\n",
       "      <td>63</td>\n",
       "      <td>1399981</td>\n",
       "      <td>985102</td>\n",
       "      <td>894280</td>\n",
       "      <td>10</td>\n",
       "      <td>NaN</td>\n",
       "      <td>NaN</td>\n",
       "    </tr>\n",
       "    <tr>\n",
       "      <td>4</td>\n",
       "      <td>109023</td>\n",
       "      <td>PSN HEALTH CARE CORP</td>\n",
       "      <td>17670 NW 78 AVE   STE 213</td>\n",
       "      <td>MIAMI GARDENS</td>\n",
       "      <td>FL</td>\n",
       "      <td>33015</td>\n",
       "      <td>59</td>\n",
       "      <td>18</td>\n",
       "      <td>460554</td>\n",
       "      <td>194515</td>\n",
       "      <td>171470</td>\n",
       "      <td>12</td>\n",
       "      <td>NaN</td>\n",
       "      <td>NaN</td>\n",
       "    </tr>\n",
       "  </tbody>\n",
       "</table>\n",
       "</div>"
      ],
      "text/plain": [
       "  provider_id                                     agency_name  \\\n",
       "0      337290  AMERICARE CERTIFIED SPECIAL SERVICES, INC CHHA   \n",
       "1       58217                      BRADBOURNE HEALTHCARE, INC   \n",
       "2       58419              INSIGHT HEALTH CARE PROVIDERS, INC   \n",
       "3      108167                D & N HOME HEALTH SERVICES, INC.   \n",
       "4      109023                            PSN HEALTH CARE CORP   \n",
       "\n",
       "                street_address           city state  zip_code  \\\n",
       "0       5923 STRICKLAND AVENUE       BROOKLYN    NY     11234   \n",
       "1  16029 ARROW HIGHWAY SUITE A      IRWINDALE    CA     91706   \n",
       "2     500 S KRAEMER BLVD, #240           BREA    CA     92821   \n",
       "3         1140 W 50 ST STE 305        HIALEAH    FL     33012   \n",
       "4    17670 NW 78 AVE   STE 213  MIAMI GARDENS    FL     33015   \n",
       "\n",
       "   total_episodes_non_lupa  distinct_users_non_lupa  \\\n",
       "0                     3148                     2310   \n",
       "1                      620                      297   \n",
       "2                       19                       15   \n",
       "3                      208                       63   \n",
       "4                       59                       18   \n",
       "\n",
       "   total_hha_charge_amount_non_lupa  \\\n",
       "0                          14112445   \n",
       "1                           1786721   \n",
       "2                            127300   \n",
       "3                           1399981   \n",
       "4                            460554   \n",
       "\n",
       "   total_hha_medicare_payment_amount_non_lupa  \\\n",
       "0                                    12667998   \n",
       "1                                     2257118   \n",
       "2                                       87592   \n",
       "3                                      985102   \n",
       "4                                      194515   \n",
       "\n",
       "   total_hha_medicare_standard_payment_amount_non_lupa  \\\n",
       "0                                            9482140     \n",
       "1                                            1768714     \n",
       "2                                              68536     \n",
       "3                                             894280     \n",
       "4                                             171470     \n",
       "\n",
       "   outlier_payments_as_a_percent_of_medicare_payment_amount_non_lupa  \\\n",
       "0                                                 10                   \n",
       "1                                                 10                   \n",
       "2                                                 11                   \n",
       "3                                                 10                   \n",
       "4                                                 12                   \n",
       "\n",
       "   total_lupa_episodes  total_hha_medicare_payment_amount_for_lupas  \n",
       "0                259.0                                     108050.0  \n",
       "1                  NaN                                          NaN  \n",
       "2                  NaN                                          NaN  \n",
       "3                  NaN                                          NaN  \n",
       "4                  NaN                                          NaN  "
      ]
     },
     "execution_count": 5,
     "metadata": {},
     "output_type": "execute_result"
    }
   ],
   "source": [
    "# Start Querying the data\n",
    "\n",
    "query1 = \"\"\"SELECT *\n",
    "FROM\n",
    "  `bigquery-public-data.cms_medicare.home_health_agencies_2013`\n",
    "        \"\"\"\n",
    "response1 = medicare.query_to_pandas_safe(query1)\n",
    "# response1.to_csv(\"home_health_agencies_2013.csv\", index=False, encoding='utf8')\n",
    "response1.to_sql(name='home_health_agencies_2013', con=engine, if_exists='append', index=False)\n",
    "response1.head()"
   ]
  },
  {
   "cell_type": "code",
   "execution_count": 6,
   "metadata": {},
   "outputs": [
    {
     "data": {
      "text/plain": [
       "(10882, 49)"
      ]
     },
     "execution_count": 6,
     "metadata": {},
     "output_type": "execute_result"
    }
   ],
   "source": [
    "query2 = \"\"\"SELECT *\n",
    "FROM\n",
    "  `bigquery-public-data.cms_medicare.home_health_agencies_2014`\n",
    "        \"\"\"\n",
    "response2 = medicare.query_to_pandas_safe(query2)\n",
    "# response2.to_csv(\"home_health_agencies_2014.csv\", index=False, encoding='utf8')\n",
    "response2.to_sql(name='home_health_agencies_2014', con=engine, if_exists='append', index=False)\n",
    "response2.shape"
   ]
  },
  {
   "cell_type": "code",
   "execution_count": 7,
   "metadata": {},
   "outputs": [
    {
     "data": {
      "text/plain": [
       "(3928, 47)"
      ]
     },
     "execution_count": 7,
     "metadata": {},
     "output_type": "execute_result"
    }
   ],
   "source": [
    "query3 = \"\"\"SELECT *\n",
    "FROM\n",
    "  `bigquery-public-data.cms_medicare.hospice_providers_2014`\n",
    "        \"\"\"\n",
    "response3 = medicare.query_to_pandas_safe(query3)\n",
    "# response3.to_csv(\"hospice_providers_2014.csv\", index=False, encoding='utf8')\n",
    "response3.to_sql(name='hospice_providers_2014', con=engine, if_exists='append', index=False)\n",
    "response3.shape\n"
   ]
  },
  {
   "cell_type": "code",
   "execution_count": 8,
   "metadata": {},
   "outputs": [
    {
     "data": {
      "text/plain": [
       "(5334, 29)"
      ]
     },
     "execution_count": 8,
     "metadata": {},
     "output_type": "execute_result"
    }
   ],
   "source": [
    "query4 = \"\"\"SELECT *\n",
    "FROM\n",
    "  `bigquery-public-data.cms_medicare.hospital_general_info`\n",
    "        \"\"\"\n",
    "response4 = medicare.query_to_pandas_safe(query4)\n",
    "# response4.to_csv(\"hospital_general_info.csv\", index=False, encoding='utf8')\n",
    "response4.to_sql(name='hospital_general_info', con=engine, if_exists='append', index=False)\n",
    "response4.shape"
   ]
  },
  {
   "cell_type": "code",
   "execution_count": 9,
   "metadata": {},
   "outputs": [
    {
     "data": {
      "text/plain": [
       "(163065, 12)"
      ]
     },
     "execution_count": 9,
     "metadata": {},
     "output_type": "execute_result"
    }
   ],
   "source": [
    "query5 = \"\"\"SELECT *\n",
    "FROM\n",
    "  `bigquery-public-data.cms_medicare.inpatient_charges_2011`\n",
    "        \"\"\"\n",
    "response5 = medicare.query_to_pandas_safe(query5)\n",
    "# response5.to_csv(\"inpatient_charges_2011.csv\", index=False, encoding='utf8')\n",
    "response5.to_sql(name='inpatient_charges_2011', con=engine, if_exists='append', index=False)\n",
    "response5.shape"
   ]
  },
  {
   "cell_type": "code",
   "execution_count": 10,
   "metadata": {},
   "outputs": [
    {
     "data": {
      "text/plain": [
       "(157747, 12)"
      ]
     },
     "execution_count": 10,
     "metadata": {},
     "output_type": "execute_result"
    }
   ],
   "source": [
    "query6 = \"\"\"SELECT *\n",
    "FROM\n",
    "  `bigquery-public-data.cms_medicare.inpatient_charges_2012`\n",
    "        \"\"\"\n",
    "response6 = medicare.query_to_pandas_safe(query6)\n",
    "# response6.to_csv(\"inpatient_charges_2012.csv\", index=False, encoding='utf8')\n",
    "response6.to_sql(name='inpatient_charges_2012', con=engine, if_exists='append', index=False)\n",
    "response6.shape"
   ]
  },
  {
   "cell_type": "code",
   "execution_count": 11,
   "metadata": {},
   "outputs": [
    {
     "data": {
      "text/plain": [
       "(201876, 12)"
      ]
     },
     "execution_count": 11,
     "metadata": {},
     "output_type": "execute_result"
    }
   ],
   "source": [
    "query7 = \"\"\"SELECT *\n",
    "FROM\n",
    "  `bigquery-public-data.cms_medicare.inpatient_charges_2013`\n",
    "        \"\"\"\n",
    "response7 = medicare.query_to_pandas_safe(query7)\n",
    "# response7.to_csv(\"inpatient_charges_2013.csv\", index=False, encoding='utf8')\n",
    "response7.to_sql(name='inpatient_charges_2013', con=engine, if_exists='append', index=False)\n",
    "response7.shape\n",
    "\n",
    "query8 = \"\"\"SELECT *\n",
    "FROM\n",
    "  `bigquery-public-data.cms_medicare.inpatient_charges_2014`\n",
    "        \"\"\"\n",
    "response8 = medicare.query_to_pandas_safe(query8)\n",
    "# response8.to_csv(\"inpatient_charges_2014.csv\", index=False, encoding='utf8')\n",
    "response8.to_sql(name='inpatient_charges_2014', con=engine, if_exists='append', index=False)\n",
    "response8.shape\n",
    "\n",
    "\n",
    "query9 = \"\"\"SELECT *\n",
    "FROM\n",
    "  `bigquery-public-data.cms_medicare.inpatient_charges_2015`\n",
    "        \"\"\"\n",
    "response9 = medicare.query_to_pandas_safe(query9)\n",
    "# response9.to_csv(\"inpatient_charges_2015.csv\", index=False, encoding='utf8')\n",
    "response9.to_sql(name='inpatient_charges_2015', con=engine, if_exists='append', index=False)\n",
    "response9.shape\n"
   ]
  },
  {
   "cell_type": "code",
   "execution_count": 12,
   "metadata": {},
   "outputs": [
    {
     "data": {
      "text/plain": [
       "(43372, 11)"
      ]
     },
     "execution_count": 12,
     "metadata": {},
     "output_type": "execute_result"
    }
   ],
   "source": [
    "query10 = \"\"\"SELECT *\n",
    "FROM\n",
    "  `bigquery-public-data.cms_medicare.nursing_facilities_2013`\n",
    "        \"\"\"\n",
    "response10 = medicare.query_to_pandas_safe(query10)\n",
    "response10.to_csv(\"nursing_facilities_2013.csv\", index=False, encoding='utf8')\n",
    "response10.to_sql(name='nursing_facilities_2013', con=engine, if_exists='append', index=False)\n",
    "response10.shape\n",
    "\n",
    "query11 = \"\"\"SELECT *\n",
    "FROM\n",
    "  `bigquery-public-data.cms_medicare.nursing_facilities_2014`\n",
    "        \"\"\"\n",
    "response11 = medicare.query_to_pandas_safe(query11)\n",
    "# response11.to_csv(\"nursing_facilities_2014.csv\", index=False, encoding='utf8')\n",
    "response11.to_sql(name='nursing_facilities_2014', con=engine, if_exists='append', index=False)\n",
    "response11.shape\n",
    "\n",
    "\n",
    "query12 = \"\"\"SELECT *\n",
    "FROM\n",
    "  `bigquery-public-data.cms_medicare.outpatient_charges_2011`\n",
    "        \"\"\"\n",
    "response12 = medicare.query_to_pandas_safe(query12)\n",
    "# response12.to_csv(\"outpatient_charges_2011.csv\", index=False, encoding='utf8')\n",
    "response12.to_sql(name='outpatient_charges_2011', con=engine, if_exists='append', index=False)\n",
    "response12.shape"
   ]
  },
  {
   "cell_type": "code",
   "execution_count": 13,
   "metadata": {},
   "outputs": [
    {
     "data": {
      "text/plain": [
       "(44355, 11)"
      ]
     },
     "execution_count": 13,
     "metadata": {},
     "output_type": "execute_result"
    }
   ],
   "source": [
    "query13 = \"\"\"SELECT *\n",
    "FROM\n",
    "  `bigquery-public-data.cms_medicare.outpatient_charges_2012`\n",
    "        \"\"\"\n",
    "response13 = medicare.query_to_pandas_safe(query13)\n",
    "response13.to_csv(\"outpatient_charges_2012.csv\", index=False, encoding='utf8')\n",
    "response13.to_sql(name='outpatient_charges_2012', con=engine, if_exists='append', index=False)\n",
    "response13.shape\n",
    "\n",
    "query14 = \"\"\"SELECT *\n",
    "FROM\n",
    "  `bigquery-public-data.cms_medicare.outpatient_charges_2013`\n",
    "        \"\"\"\n",
    "response14 = medicare.query_to_pandas_safe(query14)\n",
    "# response14.to_csv(\"outpatient_charges_2013.csv\", index=False, encoding='utf8')\n",
    "response14.to_sql(name='outpatient_charges_2013', con=engine, if_exists='append', index=False)\n",
    "response14.shape\n",
    "\n",
    "# Query 15 is good\n",
    "query15 = \"\"\"SELECT *\n",
    "FROM\n",
    "  `bigquery-public-data.cms_medicare.outpatient_charges_2014`\n",
    "  LIMIT 20000 OFFSET 40000\n",
    "        \"\"\"\n",
    "response15 = medicare.query_to_pandas_safe(query15)\n",
    "# response15.to_csv(\"outpatient_charges_2014.csv\", index=False, encoding='utf8')\n",
    "response15.shape"
   ]
  },
  {
   "cell_type": "code",
   "execution_count": 14,
   "metadata": {},
   "outputs": [],
   "source": [
    "# Load CSV files\n",
    "\n",
    "response15a = \"outpatient_charges_2014a.csv\"\n",
    "response15b = \"outpatient_charges_2014b.csv\"\n",
    "\n",
    "# Read files and store into Pandas DataFrame\n",
    "# Due to low memory error read https://stackoverflow.com/questions/24251219/pandas-read-csv-low-memory-and-dtype-options\n",
    "\n",
    "response15a  = pd.read_csv(\"outpatient_charges_2014a.csv\",sep=',', error_bad_lines=False, index_col=False, dtype='unicode')\n",
    "response15b = pd.read_csv(\"outpatient_charges_2014b.csv\",sep=',', error_bad_lines=False, index_col=False, dtype='unicode')"
   ]
  },
  {
   "cell_type": "code",
   "execution_count": 15,
   "metadata": {},
   "outputs": [
    {
     "data": {
      "text/html": [
       "<div>\n",
       "<style scoped>\n",
       "    .dataframe tbody tr th:only-of-type {\n",
       "        vertical-align: middle;\n",
       "    }\n",
       "\n",
       "    .dataframe tbody tr th {\n",
       "        vertical-align: top;\n",
       "    }\n",
       "\n",
       "    .dataframe thead th {\n",
       "        text-align: right;\n",
       "    }\n",
       "</style>\n",
       "<table border=\"1\" class=\"dataframe\">\n",
       "  <thead>\n",
       "    <tr style=\"text-align: right;\">\n",
       "      <th></th>\n",
       "      <th>provider_id</th>\n",
       "      <th>provider_name</th>\n",
       "      <th>provider_street_address</th>\n",
       "      <th>provider_city</th>\n",
       "      <th>provider_state</th>\n",
       "      <th>provider_zipcode</th>\n",
       "      <th>apc</th>\n",
       "      <th>hospital_referral_region</th>\n",
       "      <th>outpatient_services</th>\n",
       "      <th>average_estimated_submitted_charges</th>\n",
       "      <th>average_total_payments</th>\n",
       "    </tr>\n",
       "  </thead>\n",
       "  <tbody>\n",
       "    <tr>\n",
       "      <td>0</td>\n",
       "      <td>30036</td>\n",
       "      <td>CHANDLER REGIONAL MEDICAL CENTER</td>\n",
       "      <td>1955 WEST FRYE ROAD</td>\n",
       "      <td>CHANDLER</td>\n",
       "      <td>AZ</td>\n",
       "      <td>85224</td>\n",
       "      <td>0013 - Level II Debridement &amp; Destruction</td>\n",
       "      <td>AZ - Mesa</td>\n",
       "      <td>108</td>\n",
       "      <td>1339.509815</td>\n",
       "      <td>84.62981481</td>\n",
       "    </tr>\n",
       "    <tr>\n",
       "      <td>1</td>\n",
       "      <td>30036</td>\n",
       "      <td>CHANDLER REGIONAL MEDICAL CENTER</td>\n",
       "      <td>1955 WEST FRYE ROAD</td>\n",
       "      <td>CHANDLER</td>\n",
       "      <td>AZ</td>\n",
       "      <td>85224</td>\n",
       "      <td>0015 - Level III Debridement &amp; Destruction</td>\n",
       "      <td>AZ - Mesa</td>\n",
       "      <td>851</td>\n",
       "      <td>447.8067333</td>\n",
       "      <td>148.3878966</td>\n",
       "    </tr>\n",
       "    <tr>\n",
       "      <td>2</td>\n",
       "      <td>30036</td>\n",
       "      <td>CHANDLER REGIONAL MEDICAL CENTER</td>\n",
       "      <td>1955 WEST FRYE ROAD</td>\n",
       "      <td>CHANDLER</td>\n",
       "      <td>AZ</td>\n",
       "      <td>85224</td>\n",
       "      <td>0020 - Level II Excision/ Biopsy</td>\n",
       "      <td>AZ - Mesa</td>\n",
       "      <td>28</td>\n",
       "      <td>6635.098214</td>\n",
       "      <td>627.1364286</td>\n",
       "    </tr>\n",
       "    <tr>\n",
       "      <td>3</td>\n",
       "      <td>30036</td>\n",
       "      <td>CHANDLER REGIONAL MEDICAL CENTER</td>\n",
       "      <td>1955 WEST FRYE ROAD</td>\n",
       "      <td>CHANDLER</td>\n",
       "      <td>AZ</td>\n",
       "      <td>85224</td>\n",
       "      <td>0096 - Level II Noninvasive Physiologic Studies</td>\n",
       "      <td>AZ - Mesa</td>\n",
       "      <td>46</td>\n",
       "      <td>1647.256522</td>\n",
       "      <td>136.2</td>\n",
       "    </tr>\n",
       "    <tr>\n",
       "      <td>4</td>\n",
       "      <td>30036</td>\n",
       "      <td>CHANDLER REGIONAL MEDICAL CENTER</td>\n",
       "      <td>1955 WEST FRYE ROAD</td>\n",
       "      <td>CHANDLER</td>\n",
       "      <td>AZ</td>\n",
       "      <td>85224</td>\n",
       "      <td>0204 - Level I Nerve Injections</td>\n",
       "      <td>AZ - Mesa</td>\n",
       "      <td>16</td>\n",
       "      <td>3644.96625</td>\n",
       "      <td>196.69125</td>\n",
       "    </tr>\n",
       "    <tr>\n",
       "      <td>...</td>\n",
       "      <td>...</td>\n",
       "      <td>...</td>\n",
       "      <td>...</td>\n",
       "      <td>...</td>\n",
       "      <td>...</td>\n",
       "      <td>...</td>\n",
       "      <td>...</td>\n",
       "      <td>...</td>\n",
       "      <td>...</td>\n",
       "      <td>...</td>\n",
       "      <td>...</td>\n",
       "    </tr>\n",
       "    <tr>\n",
       "      <td>15890</td>\n",
       "      <td>50573</td>\n",
       "      <td>EISENHOWER MEDICAL CENTER</td>\n",
       "      <td>39-000 BOB HOPE DRIVE</td>\n",
       "      <td>RANCHO MIRAGE</td>\n",
       "      <td>CA</td>\n",
       "      <td>92270</td>\n",
       "      <td>0631 - Level 1 Examinations &amp; Related Services</td>\n",
       "      <td>CA - Palm Springs/Rancho M</td>\n",
       "      <td>594</td>\n",
       "      <td>93.94441077</td>\n",
       "      <td>85.08</td>\n",
       "    </tr>\n",
       "    <tr>\n",
       "      <td>15891</td>\n",
       "      <td>50573</td>\n",
       "      <td>EISENHOWER MEDICAL CENTER</td>\n",
       "      <td>39-000 BOB HOPE DRIVE</td>\n",
       "      <td>RANCHO MIRAGE</td>\n",
       "      <td>CA</td>\n",
       "      <td>92270</td>\n",
       "      <td>0632 - Level 2 Examinations &amp; Related Services</td>\n",
       "      <td>CA - Palm Springs/Rancho M</td>\n",
       "      <td>83</td>\n",
       "      <td>201.2242169</td>\n",
       "      <td>108.6979518</td>\n",
       "    </tr>\n",
       "    <tr>\n",
       "      <td>15892</td>\n",
       "      <td>50573</td>\n",
       "      <td>EISENHOWER MEDICAL CENTER</td>\n",
       "      <td>39-000 BOB HOPE DRIVE</td>\n",
       "      <td>RANCHO MIRAGE</td>\n",
       "      <td>CA</td>\n",
       "      <td>92270</td>\n",
       "      <td>0634 - Hospital Clinic Visits</td>\n",
       "      <td>CA - Palm Springs/Rancho M</td>\n",
       "      <td>173905</td>\n",
       "      <td>226.7484562</td>\n",
       "      <td>105.0746202</td>\n",
       "    </tr>\n",
       "    <tr>\n",
       "      <td>15893</td>\n",
       "      <td>50573</td>\n",
       "      <td>EISENHOWER MEDICAL CENTER</td>\n",
       "      <td>39-000 BOB HOPE DRIVE</td>\n",
       "      <td>RANCHO MIRAGE</td>\n",
       "      <td>CA</td>\n",
       "      <td>92270</td>\n",
       "      <td>0690 - Level I Electronic Analysis of Devices</td>\n",
       "      <td>CA - Palm Springs/Rancho M</td>\n",
       "      <td>7088</td>\n",
       "      <td>105.8218933</td>\n",
       "      <td>40.88209932</td>\n",
       "    </tr>\n",
       "    <tr>\n",
       "      <td>15894</td>\n",
       "      <td>50573</td>\n",
       "      <td>EISENHOWER MEDICAL CENTER</td>\n",
       "      <td>39-000 BOB HOPE DRIVE</td>\n",
       "      <td>RANCHO MIRAGE</td>\n",
       "      <td>CA</td>\n",
       "      <td>92270</td>\n",
       "      <td>0692 - Level II Electronic Analysis of Devices</td>\n",
       "      <td>CA - Palm Springs/Rancho M</td>\n",
       "      <td>174</td>\n",
       "      <td>332.4472989</td>\n",
       "      <td>130.9302874</td>\n",
       "    </tr>\n",
       "  </tbody>\n",
       "</table>\n",
       "<p>35895 rows × 11 columns</p>\n",
       "</div>"
      ],
      "text/plain": [
       "      provider_id                     provider_name provider_street_address  \\\n",
       "0           30036  CHANDLER REGIONAL MEDICAL CENTER     1955 WEST FRYE ROAD   \n",
       "1           30036  CHANDLER REGIONAL MEDICAL CENTER     1955 WEST FRYE ROAD   \n",
       "2           30036  CHANDLER REGIONAL MEDICAL CENTER     1955 WEST FRYE ROAD   \n",
       "3           30036  CHANDLER REGIONAL MEDICAL CENTER     1955 WEST FRYE ROAD   \n",
       "4           30036  CHANDLER REGIONAL MEDICAL CENTER     1955 WEST FRYE ROAD   \n",
       "...           ...                               ...                     ...   \n",
       "15890       50573         EISENHOWER MEDICAL CENTER   39-000 BOB HOPE DRIVE   \n",
       "15891       50573         EISENHOWER MEDICAL CENTER   39-000 BOB HOPE DRIVE   \n",
       "15892       50573         EISENHOWER MEDICAL CENTER   39-000 BOB HOPE DRIVE   \n",
       "15893       50573         EISENHOWER MEDICAL CENTER   39-000 BOB HOPE DRIVE   \n",
       "15894       50573         EISENHOWER MEDICAL CENTER   39-000 BOB HOPE DRIVE   \n",
       "\n",
       "       provider_city provider_state provider_zipcode  \\\n",
       "0           CHANDLER             AZ            85224   \n",
       "1           CHANDLER             AZ            85224   \n",
       "2           CHANDLER             AZ            85224   \n",
       "3           CHANDLER             AZ            85224   \n",
       "4           CHANDLER             AZ            85224   \n",
       "...              ...            ...              ...   \n",
       "15890  RANCHO MIRAGE             CA            92270   \n",
       "15891  RANCHO MIRAGE             CA            92270   \n",
       "15892  RANCHO MIRAGE             CA            92270   \n",
       "15893  RANCHO MIRAGE             CA            92270   \n",
       "15894  RANCHO MIRAGE             CA            92270   \n",
       "\n",
       "                                                   apc  \\\n",
       "0            0013 - Level II Debridement & Destruction   \n",
       "1           0015 - Level III Debridement & Destruction   \n",
       "2                     0020 - Level II Excision/ Biopsy   \n",
       "3      0096 - Level II Noninvasive Physiologic Studies   \n",
       "4                      0204 - Level I Nerve Injections   \n",
       "...                                                ...   \n",
       "15890   0631 - Level 1 Examinations & Related Services   \n",
       "15891   0632 - Level 2 Examinations & Related Services   \n",
       "15892                    0634 - Hospital Clinic Visits   \n",
       "15893    0690 - Level I Electronic Analysis of Devices   \n",
       "15894   0692 - Level II Electronic Analysis of Devices   \n",
       "\n",
       "         hospital_referral_region outpatient_services  \\\n",
       "0                       AZ - Mesa                 108   \n",
       "1                       AZ - Mesa                 851   \n",
       "2                       AZ - Mesa                  28   \n",
       "3                       AZ - Mesa                  46   \n",
       "4                       AZ - Mesa                  16   \n",
       "...                           ...                 ...   \n",
       "15890  CA - Palm Springs/Rancho M                 594   \n",
       "15891  CA - Palm Springs/Rancho M                  83   \n",
       "15892  CA - Palm Springs/Rancho M              173905   \n",
       "15893  CA - Palm Springs/Rancho M                7088   \n",
       "15894  CA - Palm Springs/Rancho M                 174   \n",
       "\n",
       "      average_estimated_submitted_charges average_total_payments  \n",
       "0                             1339.509815            84.62981481  \n",
       "1                             447.8067333            148.3878966  \n",
       "2                             6635.098214            627.1364286  \n",
       "3                             1647.256522                  136.2  \n",
       "4                              3644.96625              196.69125  \n",
       "...                                   ...                    ...  \n",
       "15890                         93.94441077                  85.08  \n",
       "15891                         201.2242169            108.6979518  \n",
       "15892                         226.7484562            105.0746202  \n",
       "15893                         105.8218933            40.88209932  \n",
       "15894                         332.4472989            130.9302874  \n",
       "\n",
       "[35895 rows x 11 columns]"
      ]
     },
     "execution_count": 15,
     "metadata": {},
     "output_type": "execute_result"
    }
   ],
   "source": [
    "response15append = response15a.append(response15b)\n",
    "response15append"
   ]
  },
  {
   "cell_type": "code",
   "execution_count": 16,
   "metadata": {},
   "outputs": [],
   "source": [
    "response15append.to_sql(name='outpatient_charges_2014', con=engine, if_exists='append', index=False)"
   ]
  },
  {
   "cell_type": "code",
   "execution_count": null,
   "metadata": {},
   "outputs": [],
   "source": [
    "# Query 16 is good\n",
    "query16 = \"\"\"SELECT *\n",
    "FROM\n",
    "  `bigquery-public-data.cms_medicare.outpatient_charges_2015`\n",
    "#         \"\"\"\n",
    "response16 = medicare.query_to_pandas_safe(query16)\n",
    "# response16.to_csv(\"outpatient_charges_2015.csv\", index=False, encoding='utf8')\n",
    "response16.to_sql(name='outpatient_charges_2015', con=engine, if_exists='append', index=False)\n",
    "response16.shape"
   ]
  },
  {
   "cell_type": "code",
   "execution_count": 66,
   "metadata": {},
   "outputs": [
    {
     "name": "stdout",
     "output_type": "stream",
     "text": [
      "(24120618, 5)\n"
     ]
    }
   ],
   "source": [
    "# Split query in separate tables. Query separate columns. Query larger than 1GB\n",
    "\n",
    "# npi, nppes_provider_last_org_name, nppes_provider_first_name, nppes_provider_city, nppes_provider_state\n",
    "\n",
    "# npi, specialty_description\n",
    "\n",
    "# npi,bene_count, total_claim_count, total_day_supply, total_drug_cost \n",
    "\n",
    "# npi, drug_name, total_claim_count_ge65, total_day_supply_ge65, total_drug_cost_ge65\n",
    "\n",
    "query17 = \"\"\"SELECT npi, drug_name, total_claim_count_ge65, total_day_supply_ge65, total_drug_cost_ge65 \n",
    " FROM  `bigquery-public-data.cms_medicare.part_d_prescriber_2014`\n",
    "        \"\"\"\n",
    "\n",
    "response17d = medicare.query_to_pandas_safe(query17)\n",
    "response17d.to_csv(\"part_d_prescriber_2014d.csv\", index=False, encoding='utf8')\n",
    "print(response17d.shape)\n",
    "\n"
   ]
  },
  {
   "cell_type": "code",
   "execution_count": 67,
   "metadata": {},
   "outputs": [],
   "source": [
    "# Load to Database\n",
    "response17a.to_sql(name='part_d_prescriber_2014a', con=engine, if_exists='append', index=False)"
   ]
  },
  {
   "cell_type": "code",
   "execution_count": 68,
   "metadata": {},
   "outputs": [],
   "source": [
    "# Load to Database\n",
    "response17b.to_sql(name='part_d_prescriber_2014b', con=engine, if_exists='append', index=False)"
   ]
  },
  {
   "cell_type": "code",
   "execution_count": 69,
   "metadata": {},
   "outputs": [],
   "source": [
    "# Load to Database\n",
    "response17c.to_sql(name='part_d_prescriber_2014c', con=engine, if_exists='append', index=False)"
   ]
  },
  {
   "cell_type": "code",
   "execution_count": 70,
   "metadata": {},
   "outputs": [],
   "source": [
    "# Load to Database\n",
    "response17d.to_sql(name='part_d_prescriber_2014d', con=engine, if_exists='append', index=False)"
   ]
  },
  {
   "cell_type": "code",
   "execution_count": null,
   "metadata": {},
   "outputs": [],
   "source": [
    "# Separate table in various columns. Query larger than 1GB\n",
    "\n",
    "# nppes_provider_last_org_name, npi, nppes_provider_first_name, nppes_credentials, nppes_provider_gender, nppes_provider_city, nppes_provider_zip,\n",
    "\n",
    "# nppes_provider_state, npi, provider_type, medicare_participation_indicator, hcpcs_description, line_srvc_cnt, hcpcs_code\n",
    "\n",
    "\n",
    "\n",
    "query18 = \"\"\"SELECT nppes_provider_state, npi, provider_type, medicare_participation_indicator, hcpcs_description, line_srvc_cnt, hcpcs_code\n",
    " FROM `bigquery-public-data.cms_medicare.physicians_and_other_supplier_2012`\n",
    "\n",
    "\"\"\"\n",
    "\n",
    "response18a = medicare.query_to_pandas_safe(query18)\n",
    "response18a.to_csv(\"physicians_and_other_supplier_2012a.csv\", index=False, encoding='utf8')\n",
    "print(response18a.shape)"
   ]
  },
  {
   "cell_type": "code",
   "execution_count": 19,
   "metadata": {},
   "outputs": [],
   "source": [
    "# Merge both queries\n",
    "physicians_and_supplier2012 = pd.merge(response18, response18a, how = \"outer\")\n",
    "physicians_and_supplier2012.to_csv(\"physicians_and_other_supplier_2012combined.csv\", index=False, encoding='utf8')\n"
   ]
  },
  {
   "cell_type": "code",
   "execution_count": 22,
   "metadata": {},
   "outputs": [],
   "source": [
    "# Split query in separate tables. Query separate columns. Query larger than 1GB\n",
    "\n",
    "# nppes_provider_last_org_name, npi, nppes_provider_first_name, nppes_credentials, nppes_provider_gender, nppes_provider_city, nppes_provider_zip\n",
    "\n",
    "# nppes_provider_state, npi, provider_type, medicare_participation_indicator, hcpcs_description, line_srvc_cnt, hcpcs_code\n",
    "\n",
    "query19 = \"\"\"SELECT nppes_provider_last_org_name, npi, nppes_provider_first_name, nppes_credentials, nppes_provider_gender, nppes_provider_city, nppes_provider_zip\n",
    "FROM\n",
    "  `bigquery-public-data.cms_medicare.physicians_and_other_supplier_2013`\n",
    "        \"\"\"\n",
    "\n",
    "response19a = medicare.query_to_pandas_safe(query19)\n",
    "response19a.to_csv(\"physicians_and_other_supplier_2013a.csv\", index=False, encoding='utf8')\n",
    "response19a.shape"
   ]
  },
  {
   "cell_type": "code",
   "execution_count": 23,
   "metadata": {},
   "outputs": [],
   "source": [
    "query19b = \"\"\"SELECT nppes_provider_state, npi, provider_type, medicare_participation_indicator, hcpcs_description, line_srvc_cnt, hcpcs_code\n",
    "FROM\n",
    "  `bigquery-public-data.cms_medicare.physicians_and_other_supplier_2013`\n",
    "        \"\"\"\n",
    "\n",
    "response19b = medicare.query_to_pandas_safe(query19b)\n",
    "response19b.to_csv(\"physicians_and_other_supplier_2013b.csv\", index=False, encoding='utf8')\n",
    "response19b.shape"
   ]
  },
  {
   "cell_type": "code",
   "execution_count": 24,
   "metadata": {},
   "outputs": [],
   "source": [
    "query20 = \"\"\"SELECT nppes_provider_last_org_name, npi, nppes_provider_first_name, nppes_credentials, nppes_provider_gender, nppes_provider_city, nppes_provider_zip\n",
    "FROM\n",
    "  `bigquery-public-data.cms_medicare.physicians_and_other_supplier_2014`\n",
    "        \"\"\"\n",
    "\n",
    "response20a = medicare.query_to_pandas_safe(query20)\n",
    "response20a.to_csv(\"physicians_and_other_supplier_2014a.csv\", index=False, encoding='utf8')\n",
    "\n",
    "\n"
   ]
  },
  {
   "cell_type": "code",
   "execution_count": 25,
   "metadata": {},
   "outputs": [],
   "source": [
    "query20b = \"\"\"SELECT nppes_provider_state, npi, provider_type, hcpcs_description, line_srvc_cnt, hcpcs_code\n",
    "FROM\n",
    "  `bigquery-public-data.cms_medicare.physicians_and_other_supplier_2014`\n",
    "     \"\"\"\n",
    "\n",
    "response20b = medicare.query_to_pandas_safe(query20b)\n",
    "response20b.to_csv(\"physicians_and_other_supplier_2014b.csv\", index=False, encoding='utf8')\n"
   ]
  },
  {
   "cell_type": "code",
   "execution_count": 26,
   "metadata": {},
   "outputs": [],
   "source": [
    "query21 = \"\"\"SELECT nppes_provider_last_org_name, npi, nppes_provider_first_name, nppes_credentials, nppes_provider_gender, nppes_provider_city, nppes_provider_zip\n",
    "FROM\n",
    "  `bigquery-public-data.cms_medicare.physicians_and_other_supplier_2015`\n",
    "        \"\"\"\n",
    "\n",
    "response21a = medicare.query_to_pandas_safe(query21)\n",
    "response21a.to_csv(\"physicians_and_other_supplier_2015a.csv\", index=False, encoding='utf8')\n",
    "response21a.shape\n",
    "\n"
   ]
  },
  {
   "cell_type": "code",
   "execution_count": 27,
   "metadata": {},
   "outputs": [],
   "source": [
    "query21b = \"\"\"SELECT nppes_provider_state, npi, provider_type, hcpcs_description, line_srvc_cnt, hcpcs_code\n",
    "FROM\n",
    "  `bigquery-public-data.cms_medicare.physicians_and_other_supplier_2015`\n",
    "        \"\"\"\n",
    "\n",
    "response21b = medicare.query_to_pandas_safe(query21b)\n",
    "response21b.to_csv(\"physicians_and_other_supplier_2015b.csv\", index=False, encoding='utf8')\n",
    "response21b.shape"
   ]
  },
  {
   "cell_type": "code",
   "execution_count": 28,
   "metadata": {},
   "outputs": [],
   "source": [
    "query22 = \"\"\"SELECT *\n",
    "FROM\n",
    "  `bigquery-public-data.cms_medicare.referring_durable_medical_equip_2013`\n",
    "        \"\"\"\n",
    "response22 = medicare.query_to_pandas_safe(query22)\n",
    "response22.to_csv(\"referring_durable_medical_equip_2013.csv\", index=False, encoding='utf8')\n",
    "response22.shape"
   ]
  },
  {
   "cell_type": "code",
   "execution_count": 29,
   "metadata": {},
   "outputs": [],
   "source": [
    "# Query 23 is good\n",
    "\n",
    "query23 = \"\"\"SELECT *\n",
    "FROM\n",
    "  `bigquery-public-data.cms_medicare.referring_durable_medical_equip_2014`\n",
    "        \"\"\"\n",
    "response23 = medicare.query_to_pandas_safe(query23)\n",
    "response23.to_csv(\"referring_durable_medical_equip_2014.csv\", index=False, encoding='utf8')\n",
    "print(response23.shape)\n",
    "print(bq_assistant.estimate_query_size(query23))"
   ]
  },
  {
   "cell_type": "code",
   "execution_count": 30,
   "metadata": {},
   "outputs": [],
   "source": [
    "# Load DF or CSV to database\n",
    "#  Use pandas to load csv converted DataFrame into database\n",
    "response18.to_sql(name='physicians_and_supplier2012a', con=engine, if_exists='append', index=False)\n",
    "response18a.to_sql(name='physicians_and_supplier2012b', con=engine, if_exists='append', index=False)"
   ]
  },
  {
   "cell_type": "code",
   "execution_count": 5,
   "metadata": {
    "ExecuteTime": {
     "end_time": "2019-10-13T05:56:10.160341Z",
     "start_time": "2019-10-13T05:55:22.724047Z"
    }
   },
   "outputs": [
    {
     "data": {
      "text/html": [
       "<div>\n",
       "<style scoped>\n",
       "    .dataframe tbody tr th:only-of-type {\n",
       "        vertical-align: middle;\n",
       "    }\n",
       "\n",
       "    .dataframe tbody tr th {\n",
       "        vertical-align: top;\n",
       "    }\n",
       "\n",
       "    .dataframe thead th {\n",
       "        text-align: right;\n",
       "    }\n",
       "</style>\n",
       "<table border=\"1\" class=\"dataframe\">\n",
       "  <thead>\n",
       "    <tr style=\"text-align: right;\">\n",
       "      <th></th>\n",
       "      <th>nppes_provider_last_org_name</th>\n",
       "      <th>npi</th>\n",
       "      <th>nppes_provider_first_name</th>\n",
       "      <th>nppes_credentials</th>\n",
       "      <th>nppes_provider_gender</th>\n",
       "      <th>nppes_provider_city</th>\n",
       "      <th>nppes_provider_zip</th>\n",
       "    </tr>\n",
       "  </thead>\n",
       "  <tbody>\n",
       "    <tr>\n",
       "      <td>0</td>\n",
       "      <td>HARVEY</td>\n",
       "      <td>1841278264</td>\n",
       "      <td>JENNIFER</td>\n",
       "      <td>CRNA</td>\n",
       "      <td>F</td>\n",
       "      <td>DOVER</td>\n",
       "      <td>03820</td>\n",
       "    </tr>\n",
       "    <tr>\n",
       "      <td>1</td>\n",
       "      <td>SICHAK</td>\n",
       "      <td>1023083110</td>\n",
       "      <td>MARY</td>\n",
       "      <td>CRNA</td>\n",
       "      <td>F</td>\n",
       "      <td>BEAVER</td>\n",
       "      <td>15009</td>\n",
       "    </tr>\n",
       "    <tr>\n",
       "      <td>2</td>\n",
       "      <td>HAIRSTON-JONES</td>\n",
       "      <td>1518968080</td>\n",
       "      <td>SHELLY</td>\n",
       "      <td>M.D.</td>\n",
       "      <td>F</td>\n",
       "      <td>FREDERICK</td>\n",
       "      <td>21703</td>\n",
       "    </tr>\n",
       "    <tr>\n",
       "      <td>3</td>\n",
       "      <td>LEISURE</td>\n",
       "      <td>1386757755</td>\n",
       "      <td>GEOGRE</td>\n",
       "      <td>None</td>\n",
       "      <td>M</td>\n",
       "      <td>CHARLOTTESVILLE</td>\n",
       "      <td>22902</td>\n",
       "    </tr>\n",
       "    <tr>\n",
       "      <td>4</td>\n",
       "      <td>STRASBURG</td>\n",
       "      <td>1558398537</td>\n",
       "      <td>DAVID</td>\n",
       "      <td>MD</td>\n",
       "      <td>M</td>\n",
       "      <td>FISHERSVILLE</td>\n",
       "      <td>22939</td>\n",
       "    </tr>\n",
       "  </tbody>\n",
       "</table>\n",
       "</div>"
      ],
      "text/plain": [
       "  nppes_provider_last_org_name         npi nppes_provider_first_name  \\\n",
       "0                       HARVEY  1841278264                  JENNIFER   \n",
       "1                       SICHAK  1023083110                      MARY   \n",
       "2               HAIRSTON-JONES  1518968080                    SHELLY   \n",
       "3                      LEISURE  1386757755                    GEOGRE   \n",
       "4                    STRASBURG  1558398537                     DAVID   \n",
       "\n",
       "  nppes_credentials nppes_provider_gender nppes_provider_city  \\\n",
       "0              CRNA                     F               DOVER   \n",
       "1              CRNA                     F              BEAVER   \n",
       "2              M.D.                     F           FREDERICK   \n",
       "3              None                     M     CHARLOTTESVILLE   \n",
       "4                MD                     M        FISHERSVILLE   \n",
       "\n",
       "  nppes_provider_zip  \n",
       "0              03820  \n",
       "1              15009  \n",
       "2              21703  \n",
       "3              22902  \n",
       "4              22939  "
      ]
     },
     "execution_count": 5,
     "metadata": {},
     "output_type": "execute_result"
    }
   ],
   "source": [
    "# Query Database to confirm upload\n",
    "\n",
    "# Confirm data has been added by querying the tables\n",
    "\n",
    "pd.read_sql_query('select * from physicians_and_supplier2012a', con=engine).head()"
   ]
  },
  {
   "cell_type": "code",
   "execution_count": 32,
   "metadata": {},
   "outputs": [],
   "source": [
    "pd.read_sql_query('select * from physicians_and_supplier2012b', con=engine).head()\n"
   ]
  },
  {
   "cell_type": "code",
   "execution_count": 39,
   "metadata": {},
   "outputs": [],
   "source": [
    "# Read big query csv and load to database\n",
    "response19a  = pd.read_csv(\"physicians_and_other_supplier_2013a.csv\",sep=',', error_bad_lines=False, index_col=False, dtype='unicode')\n",
    "response19a.to_sql(name='physicians_and_supplier2013a', con=engine, if_exists='append', index=False)\n"
   ]
  },
  {
   "cell_type": "code",
   "execution_count": 40,
   "metadata": {},
   "outputs": [],
   "source": [
    "# Read big query csv and load to database\n",
    "response19b  = pd.read_csv(\"physicians_and_other_supplier_2013b.csv\",sep=',', error_bad_lines=False, index_col=False, dtype='unicode')\n",
    "response19b.to_sql(name='physicians_and_supplier2013b', con=engine, if_exists='append', index=False)\n"
   ]
  },
  {
   "cell_type": "code",
   "execution_count": 41,
   "metadata": {},
   "outputs": [],
   "source": [
    "# Read big query csv and load to database\n",
    "response20a  = pd.read_csv(\"physicians_and_other_supplier_2014a.csv\",sep=',', error_bad_lines=False, index_col=False, dtype='unicode')\n",
    "\n",
    "response20a.to_sql(name='physicians_and_supplier2014a', con=engine, if_exists='append', index=False)\n"
   ]
  },
  {
   "cell_type": "code",
   "execution_count": 42,
   "metadata": {},
   "outputs": [],
   "source": [
    "# Read big query csv and load to database\n",
    "response20b  = pd.read_csv(\"physicians_and_other_supplier_2014b.csv\",sep=',', error_bad_lines=False, index_col=False, dtype='unicode')\n",
    "\n",
    "response20b.to_sql(name='physicians_and_supplier2014b', con=engine, if_exists='append', index=False)\n"
   ]
  },
  {
   "cell_type": "code",
   "execution_count": 43,
   "metadata": {},
   "outputs": [],
   "source": [
    "# Read big query csv and load to database\n",
    "response21a  = pd.read_csv(\"physicians_and_other_supplier_2015a.csv\",sep=',', error_bad_lines=False, index_col=False, dtype='unicode')\n",
    "\n",
    "response21a.to_sql(name='physicians_and_supplier2015a', con=engine, if_exists='append', index=False)\n"
   ]
  },
  {
   "cell_type": "code",
   "execution_count": 44,
   "metadata": {},
   "outputs": [],
   "source": [
    "# Read big query csv and load to database\n",
    "response21b  = pd.read_csv(\"physicians_and_other_supplier_2015b.csv\",sep=',', error_bad_lines=False, index_col=False, dtype='unicode')\n",
    "\n",
    "response21b.to_sql(name='physicians_and_supplier2015b', con=engine, if_exists='append', index=False)"
   ]
  }
 ],
 "metadata": {
  "kernelspec": {
   "display_name": "Python 3",
   "language": "python",
   "name": "python3"
  },
  "language_info": {
   "codemirror_mode": {
    "name": "ipython",
    "version": 3
   },
   "file_extension": ".py",
   "mimetype": "text/x-python",
   "name": "python",
   "nbconvert_exporter": "python",
   "pygments_lexer": "ipython3",
   "version": "3.6.8"
  },
  "toc": {
   "base_numbering": 1,
   "nav_menu": {},
   "number_sections": true,
   "sideBar": true,
   "skip_h1_title": false,
   "title_cell": "Table of Contents",
   "title_sidebar": "Contents",
   "toc_cell": true,
   "toc_position": {},
   "toc_section_display": true,
   "toc_window_display": true
  },
  "varInspector": {
   "cols": {
    "lenName": 16,
    "lenType": 16,
    "lenVar": 40
   },
   "kernels_config": {
    "python": {
     "delete_cmd_postfix": "",
     "delete_cmd_prefix": "del ",
     "library": "var_list.py",
     "varRefreshCmd": "print(var_dic_list())"
    },
    "r": {
     "delete_cmd_postfix": ") ",
     "delete_cmd_prefix": "rm(",
     "library": "var_list.r",
     "varRefreshCmd": "cat(var_dic_list()) "
    }
   },
   "types_to_exclude": [
    "module",
    "function",
    "builtin_function_or_method",
    "instance",
    "_Feature"
   ],
   "window_display": false
  }
 },
 "nbformat": 4,
 "nbformat_minor": 2
}
